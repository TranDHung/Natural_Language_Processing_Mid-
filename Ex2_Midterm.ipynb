{
  "nbformat": 4,
  "nbformat_minor": 0,
  "metadata": {
    "colab": {
      "name": "GK_NLP.ipynb",
      "provenance": [],
      "collapsed_sections": []
    },
    "kernelspec": {
      "name": "python3",
      "display_name": "Python 3"
    },
    "language_info": {
      "name": "python"
    }
  },
  "cells": [
    {
      "cell_type": "code",
      "source": [
        "# Đọc dữ liệu từ file txt\n",
        "f = open(\"corpus.txt\", \"r\")\n",
        "f = f.read()"
      ],
      "metadata": {
        "id": "JIT_brepcAEV"
      },
      "execution_count": null,
      "outputs": []
    },
    {
      "cell_type": "code",
      "source": [
        "# Xử lý dữ liệu\n",
        "x = f.replace(\"\\'\",\"\")\n",
        "x = x.split(\". \")\n",
        "\n",
        "ar = []\n",
        "\n",
        "for i in x:\n",
        "  j = i.split('\\n')\n",
        "  for k in j:\n",
        "    ar.append(k)\n",
        "\n",
        "print(len(ar))"
      ],
      "metadata": {
        "colab": {
          "base_uri": "https://localhost:8080/"
        },
        "id": "5QoJgv2bciRI",
        "outputId": "e58c86d0-b285-49be-f645-8a1212b6de7b"
      },
      "execution_count": null,
      "outputs": [
        {
          "output_type": "stream",
          "name": "stdout",
          "text": [
            "23992\n"
          ]
        }
      ]
    },
    {
      "cell_type": "code",
      "source": [
        "# Danh sách liên từ và giới từ\n",
        "listLabel = [' and ',' but ',' or ',' so ',' across ', ' after ', ' at ', ' before ', ' between ', ' by ', ' during ', ' from ', ' in ', ' into ', ' of ', ' on ', ' to ', ' through ', ' under ', ' with ', ' without ',' to ', ' through ', ' across ', ' nor ']\n",
        "listLabel = set(listLabel)\n",
        "listLabel"
      ],
      "metadata": {
        "colab": {
          "base_uri": "https://localhost:8080/"
        },
        "id": "0zquq9KCTN-m",
        "outputId": "1d866fe4-6d94-45b6-c6cc-4bba1871340e"
      },
      "execution_count": null,
      "outputs": [
        {
          "output_type": "execute_result",
          "data": {
            "text/plain": [
              "{' across ',\n",
              " ' after ',\n",
              " ' and ',\n",
              " ' at ',\n",
              " ' before ',\n",
              " ' between ',\n",
              " ' but ',\n",
              " ' by ',\n",
              " ' during ',\n",
              " ' from ',\n",
              " ' in ',\n",
              " ' into ',\n",
              " ' nor ',\n",
              " ' of ',\n",
              " ' on ',\n",
              " ' or ',\n",
              " ' so ',\n",
              " ' through ',\n",
              " ' to ',\n",
              " ' under ',\n",
              " ' with ',\n",
              " ' without '}"
            ]
          },
          "metadata": {},
          "execution_count": 3
        }
      ]
    },
    {
      "cell_type": "code",
      "source": [
        "# Tạo danh sách để lưu trữ\n",
        "rows =[]\n",
        "for i in ar:\n",
        "  for j in listLabel:\n",
        "    if j in i:\n",
        "      rows.append({'text':i, 'label':j})\n",
        "      break"
      ],
      "metadata": {
        "id": "gwTD3X0sUQ0_"
      },
      "execution_count": null,
      "outputs": []
    },
    {
      "cell_type": "code",
      "source": [
        "# Lưu lại file .csv\n",
        "import csv\n",
        "colNames = ['text', 'label']\n",
        "\n",
        "with open('Dataset.csv', 'w', encoding='UTF8', newline='') as f:\n",
        "    writer = csv.DictWriter(f, fieldnames=colNames)\n",
        "    writer.writeheader()\n",
        "    writer.writerows(rows)"
      ],
      "metadata": {
        "id": "TiGx2Kb5b5zO"
      },
      "execution_count": null,
      "outputs": []
    },
    {
      "cell_type": "code",
      "source": [
        "import pandas as pd\n",
        "import nltk\n",
        "nltk.download('punkt')"
      ],
      "metadata": {
        "colab": {
          "base_uri": "https://localhost:8080/"
        },
        "id": "Vt6gn3i3WZ57",
        "outputId": "8b4d261c-9810-4fce-bf23-6db7d6713aa1"
      },
      "execution_count": null,
      "outputs": [
        {
          "output_type": "stream",
          "name": "stdout",
          "text": [
            "[nltk_data] Downloading package punkt to /root/nltk_data...\n",
            "[nltk_data]   Unzipping tokenizers/punkt.zip.\n"
          ]
        },
        {
          "output_type": "execute_result",
          "data": {
            "text/plain": [
              "True"
            ]
          },
          "metadata": {},
          "execution_count": 6
        }
      ]
    },
    {
      "cell_type": "code",
      "source": [
        "# Đọc file\n",
        "file = pd.read_csv('Dataset.csv')"
      ],
      "metadata": {
        "id": "m8HaC7XvWeL6"
      },
      "execution_count": null,
      "outputs": []
    },
    {
      "cell_type": "code",
      "source": [
        "lines = file['text']\n",
        "labels = file['label']"
      ],
      "metadata": {
        "id": "_faN8WDrWnE2"
      },
      "execution_count": null,
      "outputs": []
    },
    {
      "cell_type": "code",
      "source": [
        "# Chia uni-gram\n",
        "sentences = [nltk.word_tokenize(sent) for sent in lines]\n",
        "print(len(sentences))"
      ],
      "metadata": {
        "colab": {
          "base_uri": "https://localhost:8080/"
        },
        "id": "GPUSn2nmYFQB",
        "outputId": "d9a45158-bfee-4db1-9da3-accdcb77b025"
      },
      "execution_count": null,
      "outputs": [
        {
          "output_type": "stream",
          "name": "stdout",
          "text": [
            "12976\n"
          ]
        }
      ]
    },
    {
      "cell_type": "code",
      "source": [
        "from tensorflow.keras.preprocessing.text import Tokenizer \n",
        "\n",
        "tokenizer = Tokenizer()\n",
        "tokenizer.fit_on_texts(sentences)"
      ],
      "metadata": {
        "id": "0f32MiO_ZPq_"
      },
      "execution_count": null,
      "outputs": []
    },
    {
      "cell_type": "code",
      "source": [
        "# Tạo ma trận trọng số TF-IDF\n",
        "X = tokenizer.texts_to_matrix(sentences,mode='tfidf')\n",
        "print(X)\n",
        "print(X.shape)\n",
        "print(len(X))"
      ],
      "metadata": {
        "colab": {
          "base_uri": "https://localhost:8080/"
        },
        "id": "82MbHhjvZrOw",
        "outputId": "57cad575-f1bd-4d67-eb19-203cf3a9d70b"
      },
      "execution_count": null,
      "outputs": [
        {
          "output_type": "stream",
          "name": "stdout",
          "text": [
            "[[0.         0.         0.         ... 0.         0.         0.        ]\n",
            " [0.         0.         1.2967478  ... 0.         0.         0.        ]\n",
            " [0.         0.         0.         ... 0.         0.         0.        ]\n",
            " ...\n",
            " [0.         1.19636658 1.2967478  ... 0.         0.         0.        ]\n",
            " [0.         1.19636658 1.2967478  ... 0.         0.         0.        ]\n",
            " [0.         2.02562469 0.         ... 0.         0.         0.        ]]\n",
            "(12976, 7207)\n",
            "12976\n"
          ]
        }
      ]
    },
    {
      "cell_type": "code",
      "source": [
        "# Chia dữ liệu train, test\n",
        "from sklearn.model_selection import train_test_split\n",
        "\n",
        "X_train, X_test, y_train, y_test = train_test_split(X, labels, \n",
        "                                            test_size=0.4, random_state=0)\n",
        "print(X_train.shape)\n",
        "print(X_test.shape)"
      ],
      "metadata": {
        "colab": {
          "base_uri": "https://localhost:8080/"
        },
        "id": "MT-74glgZ0AE",
        "outputId": "949ef70f-4735-48d4-abb2-157c0997d8d4"
      },
      "execution_count": null,
      "outputs": [
        {
          "output_type": "stream",
          "name": "stdout",
          "text": [
            "(7785, 7207)\n",
            "(5191, 7207)\n"
          ]
        }
      ]
    },
    {
      "cell_type": "code",
      "source": [
        "# Bài toán phân loại với MultinomialNB\n",
        "from sklearn.naive_bayes import MultinomialNB \n",
        "from sklearn.metrics import classification_report\n",
        "\n",
        "model_NB_token = MultinomialNB()\n",
        "\n",
        "model_NB = model_NB_token.fit(X_train,y_train)\n",
        "\n",
        "y_pred = model_NB.predict(X_test)\n",
        "\n",
        "print(classification_report(y_test,y_pred))"
      ],
      "metadata": {
        "colab": {
          "base_uri": "https://localhost:8080/"
        },
        "id": "I4mwZB1EaL1u",
        "outputId": "38c81222-de77-4b3e-b802-3469f5c65bf1"
      },
      "execution_count": null,
      "outputs": [
        {
          "output_type": "stream",
          "name": "stdout",
          "text": [
            "              precision    recall  f1-score   support\n",
            "\n",
            "     across        0.38      0.50      0.43        20\n",
            "      after        0.35      0.25      0.29        44\n",
            "        and        0.48      0.46      0.47       691\n",
            "         at        0.44      0.60      0.51       242\n",
            "     before        0.30      0.39      0.34        54\n",
            "    between        0.77      0.83      0.80        12\n",
            "        but        0.38      0.48      0.43       100\n",
            "         by        0.41      0.49      0.45        65\n",
            "     during        0.80      1.00      0.89         4\n",
            "       from        0.64      0.59      0.61        91\n",
            "         in        0.58      0.54      0.56       395\n",
            "       into        0.46      0.56      0.50        98\n",
            "        nor        0.33      0.50      0.40         6\n",
            "         of        0.74      0.61      0.67      1048\n",
            "         on        0.61      0.67      0.64       469\n",
            "         or        0.45      0.58      0.51       129\n",
            "         so        0.28      0.45      0.35       119\n",
            "    through        0.43      0.41      0.42        22\n",
            "         to        0.70      0.68      0.69      1309\n",
            "      under        0.30      0.25      0.27        28\n",
            "       with        0.50      0.46      0.48       227\n",
            "    without        0.50      0.50      0.50        18\n",
            "\n",
            "    accuracy                           0.58      5191\n",
            "   macro avg       0.49      0.54      0.51      5191\n",
            "weighted avg       0.60      0.58      0.59      5191\n",
            "\n"
          ]
        }
      ]
    },
    {
      "cell_type": "code",
      "source": [
        "# Phân loại với LogisticRegression\n",
        "from sklearn.linear_model import LogisticRegression  \n",
        "\n",
        "model_LR = LogisticRegression()\n",
        "\n",
        "model_LR = model_LR.fit(X_train,y_train)\n",
        "y_pred = model_LR.predict(X_test)\n",
        "\n",
        "print(classification_report(y_test,y_pred))"
      ],
      "metadata": {
        "colab": {
          "base_uri": "https://localhost:8080/"
        },
        "id": "mLtcxnubagiT",
        "outputId": "4b3ecf26-a3f8-4d3e-b525-072225ee4f36"
      },
      "execution_count": null,
      "outputs": [
        {
          "output_type": "stream",
          "name": "stderr",
          "text": [
            "/usr/local/lib/python3.7/dist-packages/sklearn/linear_model/_logistic.py:818: ConvergenceWarning: lbfgs failed to converge (status=1):\n",
            "STOP: TOTAL NO. of ITERATIONS REACHED LIMIT.\n",
            "\n",
            "Increase the number of iterations (max_iter) or scale the data as shown in:\n",
            "    https://scikit-learn.org/stable/modules/preprocessing.html\n",
            "Please also refer to the documentation for alternative solver options:\n",
            "    https://scikit-learn.org/stable/modules/linear_model.html#logistic-regression\n",
            "  extra_warning_msg=_LOGISTIC_SOLVER_CONVERGENCE_MSG,\n"
          ]
        },
        {
          "output_type": "stream",
          "name": "stdout",
          "text": [
            "              precision    recall  f1-score   support\n",
            "\n",
            "     across        0.94      0.75      0.83        20\n",
            "      after        0.96      0.59      0.73        44\n",
            "        and        0.89      0.87      0.88       691\n",
            "         at        0.94      0.90      0.92       242\n",
            "     before        0.76      0.72      0.74        54\n",
            "    between        1.00      0.75      0.86        12\n",
            "        but        0.83      0.85      0.84       100\n",
            "         by        0.88      0.88      0.88        65\n",
            "     during        1.00      1.00      1.00         4\n",
            "       from        0.93      0.91      0.92        91\n",
            "         in        0.90      0.92      0.91       395\n",
            "       into        0.91      0.88      0.90        98\n",
            "        nor        0.83      0.83      0.83         6\n",
            "         of        0.95      0.96      0.96      1048\n",
            "         on        0.92      0.96      0.94       469\n",
            "         or        0.89      0.90      0.89       129\n",
            "         so        0.82      0.87      0.84       119\n",
            "    through        0.95      0.82      0.88        22\n",
            "         to        0.94      0.96      0.95      1309\n",
            "      under        0.94      0.61      0.74        28\n",
            "       with        0.89      0.91      0.90       227\n",
            "    without        1.00      0.50      0.67        18\n",
            "\n",
            "    accuracy                           0.92      5191\n",
            "   macro avg       0.91      0.83      0.86      5191\n",
            "weighted avg       0.92      0.92      0.92      5191\n",
            "\n"
          ]
        }
      ]
    },
    {
      "cell_type": "code",
      "source": [
        "print(y_pred+': '+y_test)"
      ],
      "metadata": {
        "colab": {
          "base_uri": "https://localhost:8080/"
        },
        "id": "upX5rfQyl2k3",
        "outputId": "a3839296-935c-43a0-c749-7600d083bfc0"
      },
      "execution_count": null,
      "outputs": [
        {
          "output_type": "stream",
          "name": "stdout",
          "text": [
            "10823     into :  into \n",
            "11018         of :  of \n",
            "2263          of :  of \n",
            "11074         of :  of \n",
            "12491         to :  to \n",
            "              ...      \n",
            "1371          of :  of \n",
            "9971      with :  with \n",
            "2088          to :  to \n",
            "3261          to :  to \n",
            "3065          of :  of \n",
            "Name: label, Length: 5191, dtype: object\n"
          ]
        }
      ]
    },
    {
      "cell_type": "code",
      "source": [
        "# Phân loại với SVM model\n",
        "from sklearn import svm\n",
        "model_SVM = svm.SVC(kernel=\"linear\")\n",
        "\n",
        "model_SVM = model_SVM.fit(X_train,y_train)\n",
        "y_pred = model_SVM.predict(X_test)\n",
        "\n",
        "print(classification_report(y_test, y_pred))"
      ],
      "metadata": {
        "colab": {
          "base_uri": "https://localhost:8080/"
        },
        "id": "DnJXz1GCmLvH",
        "outputId": "eebfe20f-edb3-42d9-e118-5b4874f02600"
      },
      "execution_count": null,
      "outputs": [
        {
          "output_type": "stream",
          "name": "stdout",
          "text": [
            "              precision    recall  f1-score   support\n",
            "\n",
            "     across        0.79      0.95      0.86        20\n",
            "      after        0.76      0.93      0.84        44\n",
            "        and        0.95      0.86      0.90       691\n",
            "         at        0.88      0.90      0.89       242\n",
            "     before        0.73      0.91      0.81        54\n",
            "    between        1.00      0.83      0.91        12\n",
            "        but        0.83      0.85      0.84       100\n",
            "         by        0.68      0.94      0.79        65\n",
            "     during        1.00      1.00      1.00         4\n",
            "       from        0.81      0.97      0.88        91\n",
            "         in        0.94      0.91      0.92       395\n",
            "       into        0.75      0.97      0.85        98\n",
            "        nor        0.67      1.00      0.80         6\n",
            "         of        0.97      0.93      0.95      1048\n",
            "         on        0.92      0.93      0.93       469\n",
            "         or        0.83      0.96      0.89       129\n",
            "         so        0.74      0.90      0.81       119\n",
            "    through        0.53      0.95      0.68        22\n",
            "         to        0.96      0.91      0.94      1309\n",
            "      under        0.65      0.86      0.74        28\n",
            "       with        0.92      0.90      0.91       227\n",
            "    without        0.57      0.94      0.71        18\n",
            "\n",
            "    accuracy                           0.91      5191\n",
            "   macro avg       0.81      0.92      0.86      5191\n",
            "weighted avg       0.92      0.91      0.91      5191\n",
            "\n"
          ]
        }
      ]
    },
    {
      "cell_type": "code",
      "source": [
        "print(y_pred+': '+y_test)"
      ],
      "metadata": {
        "colab": {
          "base_uri": "https://localhost:8080/"
        },
        "id": "DY4SWL1Emg2R",
        "outputId": "625b8ad2-c54b-4a87-d7ca-5a5dfa463cf9"
      },
      "execution_count": null,
      "outputs": [
        {
          "output_type": "stream",
          "name": "stdout",
          "text": [
            "10823     into :  into \n",
            "11018         of :  of \n",
            "2263          of :  of \n",
            "11074         of :  of \n",
            "12491         to :  to \n",
            "              ...      \n",
            "1371          of :  of \n",
            "9971      with :  with \n",
            "2088          to :  to \n",
            "3261          to :  to \n",
            "3065          of :  of \n",
            "Name: label, Length: 5191, dtype: object\n"
          ]
        }
      ]
    }
  ]
}